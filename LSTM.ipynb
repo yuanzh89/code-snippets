{
 "cells": [
  {
   "cell_type": "code",
   "id": "initial_id",
   "metadata": {
    "collapsed": true,
    "ExecuteTime": {
     "end_time": "2025-09-04T03:52:24.151501Z",
     "start_time": "2025-09-04T03:52:24.149510Z"
    }
   },
   "source": [
    "from torch import nn\n",
    "from tqdm import *"
   ],
   "outputs": [],
   "execution_count": 118
  },
  {
   "metadata": {
    "ExecuteTime": {
     "end_time": "2025-09-04T03:52:24.161508Z",
     "start_time": "2025-09-04T03:52:24.157575Z"
    }
   },
   "cell_type": "code",
   "source": [
    "class DRNN(nn.Module):\n",
    "    def __init__(self, input_size, output_size, hidden_size, num_layers):\n",
    "        super(DRNN, self).__init__()\n",
    "        self.hidden_size = hidden_size\n",
    "        self.num_layers = num_layers\n",
    "        # (batch, sequence, feature)\n",
    "        self.rnn = nn.RNN(input_size, hidden_size, num_layers, batch_first=True)\n",
    "        # self.rnn = nn.RNN(input_size, hidden_size, num_layers, batch_first=True, nonlinearity='relu')\n",
    "        self.linear = nn.Linear(hidden_size, output_size)\n",
    "\n",
    "    def forward(self, x):\n",
    "        state = torch.zeros(self.num_layers, x.size(0), self.hidden_size)\n",
    "        output, _ = self.rnn(x, state)\n",
    "        output = self.linear(output)\n",
    "        return output"
   ],
   "id": "9b3f6813a6ba2580",
   "outputs": [],
   "execution_count": 119
  },
  {
   "metadata": {
    "ExecuteTime": {
     "end_time": "2025-09-04T03:52:24.167721Z",
     "start_time": "2025-09-04T03:52:24.164649Z"
    }
   },
   "cell_type": "code",
   "source": [
    "model = DRNN(input_size=16, output_size=16, hidden_size=64, num_layers=2)\n",
    "for name, parameters in model.named_parameters():\n",
    "    print(name, \": \", parameters.size())"
   ],
   "id": "3f5963f1a5869684",
   "outputs": [
    {
     "name": "stdout",
     "output_type": "stream",
     "text": [
      "rnn.weight_ih_l0 :  torch.Size([64, 16])\n",
      "rnn.weight_hh_l0 :  torch.Size([64, 64])\n",
      "rnn.bias_ih_l0 :  torch.Size([64])\n",
      "rnn.bias_hh_l0 :  torch.Size([64])\n",
      "rnn.weight_ih_l1 :  torch.Size([64, 64])\n",
      "rnn.weight_hh_l1 :  torch.Size([64, 64])\n",
      "rnn.bias_ih_l1 :  torch.Size([64])\n",
      "rnn.bias_hh_l1 :  torch.Size([64])\n",
      "linear.weight :  torch.Size([16, 64])\n",
      "linear.bias :  torch.Size([16])\n"
     ]
    }
   ],
   "execution_count": 120
  },
  {
   "metadata": {
    "ExecuteTime": {
     "end_time": "2025-09-04T03:52:24.181178Z",
     "start_time": "2025-09-04T03:52:24.178124Z"
    }
   },
   "cell_type": "code",
   "source": [
    "class BRNN(nn.Module):\n",
    "    def __init__(self, input_size, output_size, hidden_size, num_layers):\n",
    "        super(BRNN, self).__init__()\n",
    "        self.hidden_size = hidden_size\n",
    "        self.num_layers = num_layers\n",
    "        self.rnn = nn.RNN(input_size, hidden_size, num_layers, batch_first=True, bidirectional=True)\n",
    "        self.linear = nn.Linear(hidden_size * 2, output_size)\n",
    "\n",
    "    def forward(self, x):\n",
    "        state = torch.zeros(self.num_layers * 2, x.size(0), self.hidden_size)\n",
    "        output, _ = self.rnn(x, state)\n",
    "        output = self.linear(output)\n",
    "        return output"
   ],
   "id": "b2a6dddb37c522b",
   "outputs": [],
   "execution_count": 121
  },
  {
   "metadata": {
    "ExecuteTime": {
     "end_time": "2025-09-04T03:52:24.192769Z",
     "start_time": "2025-09-04T03:52:24.189107Z"
    }
   },
   "cell_type": "code",
   "source": [
    "model = BRNN(input_size=16, output_size=16, hidden_size=64, num_layers=2)\n",
    "for name, parameters in model.named_parameters():\n",
    "    print(name, \": \", parameters.size())"
   ],
   "id": "1d84c57bc5cbe254",
   "outputs": [
    {
     "name": "stdout",
     "output_type": "stream",
     "text": [
      "rnn.weight_ih_l0 :  torch.Size([64, 16])\n",
      "rnn.weight_hh_l0 :  torch.Size([64, 64])\n",
      "rnn.bias_ih_l0 :  torch.Size([64])\n",
      "rnn.bias_hh_l0 :  torch.Size([64])\n",
      "rnn.weight_ih_l0_reverse :  torch.Size([64, 16])\n",
      "rnn.weight_hh_l0_reverse :  torch.Size([64, 64])\n",
      "rnn.bias_ih_l0_reverse :  torch.Size([64])\n",
      "rnn.bias_hh_l0_reverse :  torch.Size([64])\n",
      "rnn.weight_ih_l1 :  torch.Size([64, 128])\n",
      "rnn.weight_hh_l1 :  torch.Size([64, 64])\n",
      "rnn.bias_ih_l1 :  torch.Size([64])\n",
      "rnn.bias_hh_l1 :  torch.Size([64])\n",
      "rnn.weight_ih_l1_reverse :  torch.Size([64, 128])\n",
      "rnn.weight_hh_l1_reverse :  torch.Size([64, 64])\n",
      "rnn.bias_ih_l1_reverse :  torch.Size([64])\n",
      "rnn.bias_hh_l1_reverse :  torch.Size([64])\n",
      "linear.weight :  torch.Size([16, 128])\n",
      "linear.bias :  torch.Size([16])\n"
     ]
    }
   ],
   "execution_count": 122
  },
  {
   "metadata": {
    "ExecuteTime": {
     "end_time": "2025-09-04T03:52:24.204802Z",
     "start_time": "2025-09-04T03:52:24.201606Z"
    }
   },
   "cell_type": "code",
   "source": [
    "class LSTM(nn.Module):\n",
    "    def __init__(self, input_size, output_size, hidden_size, num_layers):\n",
    "        super(LSTM, self).__init__()\n",
    "        self.hidden_size = hidden_size\n",
    "        self.num_layers = num_layers\n",
    "        self.lstm = nn.LSTM(input_size, hidden_size, num_layers, batch_first=True)\n",
    "        self.linear = nn.Linear(hidden_size, output_size)\n",
    "\n",
    "    def forward(self, x):\n",
    "        output, _ = self.lstm(x)\n",
    "        output = self.linear(output)\n",
    "        return output"
   ],
   "id": "900e8e4d29248ddc",
   "outputs": [],
   "execution_count": 123
  },
  {
   "metadata": {
    "ExecuteTime": {
     "end_time": "2025-09-04T03:52:24.216580Z",
     "start_time": "2025-09-04T03:52:24.213145Z"
    }
   },
   "cell_type": "code",
   "source": [
    "model = LSTM(input_size=16, output_size=16, hidden_size=64, num_layers=2)\n",
    "for name, parameters in model.named_parameters():\n",
    "    print(name, \": \", parameters.size())"
   ],
   "id": "b78026d2089daa36",
   "outputs": [
    {
     "name": "stdout",
     "output_type": "stream",
     "text": [
      "lstm.weight_ih_l0 :  torch.Size([256, 16])\n",
      "lstm.weight_hh_l0 :  torch.Size([256, 64])\n",
      "lstm.bias_ih_l0 :  torch.Size([256])\n",
      "lstm.bias_hh_l0 :  torch.Size([256])\n",
      "lstm.weight_ih_l1 :  torch.Size([256, 64])\n",
      "lstm.weight_hh_l1 :  torch.Size([256, 64])\n",
      "lstm.bias_ih_l1 :  torch.Size([256])\n",
      "lstm.bias_hh_l1 :  torch.Size([256])\n",
      "linear.weight :  torch.Size([16, 64])\n",
      "linear.bias :  torch.Size([16])\n"
     ]
    }
   ],
   "execution_count": 124
  },
  {
   "metadata": {
    "ExecuteTime": {
     "end_time": "2025-09-04T03:52:24.228343Z",
     "start_time": "2025-09-04T03:52:24.225576Z"
    }
   },
   "cell_type": "code",
   "source": [
    "class GRU(nn.Module):\n",
    "    def __init__(self, input_size, output_size, hidden_size, num_layers):\n",
    "        super(GRU, self).__init__()\n",
    "        self.hidden_size = hidden_size\n",
    "        self.num_layers = num_layers\n",
    "        self.gru = nn.GRU(input_size, hidden_size, num_layers, batch_first=True)\n",
    "        self.linear = nn.Linear(hidden_size, output_size)\n",
    "\n",
    "    def forward(self, x):\n",
    "        output, _ = self.gru(x)\n",
    "        output = self.linear(output)\n",
    "        return output"
   ],
   "id": "1a6d833e6220409b",
   "outputs": [],
   "execution_count": 125
  },
  {
   "metadata": {
    "ExecuteTime": {
     "end_time": "2025-09-04T03:52:24.240538Z",
     "start_time": "2025-09-04T03:52:24.236720Z"
    }
   },
   "cell_type": "code",
   "source": [
    "model = GRU(input_size=16, output_size=16, hidden_size=64, num_layers=2)\n",
    "for name, parameters in model.named_parameters():\n",
    "    print(name, \": \", parameters.size())"
   ],
   "id": "e15ad1063f95dc4e",
   "outputs": [
    {
     "name": "stdout",
     "output_type": "stream",
     "text": [
      "gru.weight_ih_l0 :  torch.Size([192, 16])\n",
      "gru.weight_hh_l0 :  torch.Size([192, 64])\n",
      "gru.bias_ih_l0 :  torch.Size([192])\n",
      "gru.bias_hh_l0 :  torch.Size([192])\n",
      "gru.weight_ih_l1 :  torch.Size([192, 64])\n",
      "gru.weight_hh_l1 :  torch.Size([192, 64])\n",
      "gru.bias_ih_l1 :  torch.Size([192])\n",
      "gru.bias_hh_l1 :  torch.Size([192])\n",
      "linear.weight :  torch.Size([16, 64])\n",
      "linear.bias :  torch.Size([16])\n"
     ]
    }
   ],
   "execution_count": 126
  },
  {
   "metadata": {
    "ExecuteTime": {
     "end_time": "2025-09-04T03:52:25.208503Z",
     "start_time": "2025-09-04T03:52:24.253334Z"
    }
   },
   "cell_type": "code",
   "source": [
    "import pandas_datareader as pdr\n",
    "\n",
    "dji = pdr.DataReader('^DJI', 'stooq')\n",
    "dji"
   ],
   "id": "45ec6a24be16d82d",
   "outputs": [
    {
     "data": {
      "text/plain": [
       "                Open      High       Low     Close       Volume\n",
       "Date                                                           \n",
       "2025-09-03  45309.43  45309.43  44980.36  45271.23  350358547.0\n",
       "2025-09-02  45287.73  45295.81  44948.16  45295.81  335363051.0\n",
       "2025-08-29  45590.96  45616.16  45377.21  45544.88  300295821.0\n",
       "2025-08-28  45581.03  45682.83  45442.68  45636.90  299860047.0\n",
       "2025-08-27  45417.46  45621.08  45372.78  45565.23  752109228.0\n",
       "...              ...       ...       ...       ...          ...\n",
       "2020-09-11  27613.86  27828.82  27448.15  27665.64  488365888.0\n",
       "2020-09-10  28022.51  28174.78  27447.08  27534.58  502207664.0\n",
       "2020-09-09  27711.71  28206.21  27704.54  27940.47  513595988.0\n",
       "2020-09-08  27925.23  27925.23  27464.90  27500.89  643916591.0\n",
       "2020-09-04  28341.05  28539.75  27664.68  28133.31  739979966.0\n",
       "\n",
       "[1254 rows x 5 columns]"
      ],
      "text/html": [
       "<div>\n",
       "<style scoped>\n",
       "    .dataframe tbody tr th:only-of-type {\n",
       "        vertical-align: middle;\n",
       "    }\n",
       "\n",
       "    .dataframe tbody tr th {\n",
       "        vertical-align: top;\n",
       "    }\n",
       "\n",
       "    .dataframe thead th {\n",
       "        text-align: right;\n",
       "    }\n",
       "</style>\n",
       "<table border=\"1\" class=\"dataframe\">\n",
       "  <thead>\n",
       "    <tr style=\"text-align: right;\">\n",
       "      <th></th>\n",
       "      <th>Open</th>\n",
       "      <th>High</th>\n",
       "      <th>Low</th>\n",
       "      <th>Close</th>\n",
       "      <th>Volume</th>\n",
       "    </tr>\n",
       "    <tr>\n",
       "      <th>Date</th>\n",
       "      <th></th>\n",
       "      <th></th>\n",
       "      <th></th>\n",
       "      <th></th>\n",
       "      <th></th>\n",
       "    </tr>\n",
       "  </thead>\n",
       "  <tbody>\n",
       "    <tr>\n",
       "      <th>2025-09-03</th>\n",
       "      <td>45309.43</td>\n",
       "      <td>45309.43</td>\n",
       "      <td>44980.36</td>\n",
       "      <td>45271.23</td>\n",
       "      <td>350358547.0</td>\n",
       "    </tr>\n",
       "    <tr>\n",
       "      <th>2025-09-02</th>\n",
       "      <td>45287.73</td>\n",
       "      <td>45295.81</td>\n",
       "      <td>44948.16</td>\n",
       "      <td>45295.81</td>\n",
       "      <td>335363051.0</td>\n",
       "    </tr>\n",
       "    <tr>\n",
       "      <th>2025-08-29</th>\n",
       "      <td>45590.96</td>\n",
       "      <td>45616.16</td>\n",
       "      <td>45377.21</td>\n",
       "      <td>45544.88</td>\n",
       "      <td>300295821.0</td>\n",
       "    </tr>\n",
       "    <tr>\n",
       "      <th>2025-08-28</th>\n",
       "      <td>45581.03</td>\n",
       "      <td>45682.83</td>\n",
       "      <td>45442.68</td>\n",
       "      <td>45636.90</td>\n",
       "      <td>299860047.0</td>\n",
       "    </tr>\n",
       "    <tr>\n",
       "      <th>2025-08-27</th>\n",
       "      <td>45417.46</td>\n",
       "      <td>45621.08</td>\n",
       "      <td>45372.78</td>\n",
       "      <td>45565.23</td>\n",
       "      <td>752109228.0</td>\n",
       "    </tr>\n",
       "    <tr>\n",
       "      <th>...</th>\n",
       "      <td>...</td>\n",
       "      <td>...</td>\n",
       "      <td>...</td>\n",
       "      <td>...</td>\n",
       "      <td>...</td>\n",
       "    </tr>\n",
       "    <tr>\n",
       "      <th>2020-09-11</th>\n",
       "      <td>27613.86</td>\n",
       "      <td>27828.82</td>\n",
       "      <td>27448.15</td>\n",
       "      <td>27665.64</td>\n",
       "      <td>488365888.0</td>\n",
       "    </tr>\n",
       "    <tr>\n",
       "      <th>2020-09-10</th>\n",
       "      <td>28022.51</td>\n",
       "      <td>28174.78</td>\n",
       "      <td>27447.08</td>\n",
       "      <td>27534.58</td>\n",
       "      <td>502207664.0</td>\n",
       "    </tr>\n",
       "    <tr>\n",
       "      <th>2020-09-09</th>\n",
       "      <td>27711.71</td>\n",
       "      <td>28206.21</td>\n",
       "      <td>27704.54</td>\n",
       "      <td>27940.47</td>\n",
       "      <td>513595988.0</td>\n",
       "    </tr>\n",
       "    <tr>\n",
       "      <th>2020-09-08</th>\n",
       "      <td>27925.23</td>\n",
       "      <td>27925.23</td>\n",
       "      <td>27464.90</td>\n",
       "      <td>27500.89</td>\n",
       "      <td>643916591.0</td>\n",
       "    </tr>\n",
       "    <tr>\n",
       "      <th>2020-09-04</th>\n",
       "      <td>28341.05</td>\n",
       "      <td>28539.75</td>\n",
       "      <td>27664.68</td>\n",
       "      <td>28133.31</td>\n",
       "      <td>739979966.0</td>\n",
       "    </tr>\n",
       "  </tbody>\n",
       "</table>\n",
       "<p>1254 rows × 5 columns</p>\n",
       "</div>"
      ]
     },
     "execution_count": 127,
     "metadata": {},
     "output_type": "execute_result"
    }
   ],
   "execution_count": 127
  },
  {
   "metadata": {
    "ExecuteTime": {
     "end_time": "2025-09-04T03:52:25.495611Z",
     "start_time": "2025-09-04T03:52:25.436276Z"
    }
   },
   "cell_type": "code",
   "source": [
    "import matplotlib.pyplot as plt\n",
    "\n",
    "plt.plot(dji['Close'])\n",
    "plt.show()"
   ],
   "id": "f874f1700fc980a",
   "outputs": [
    {
     "data": {
      "text/plain": [
       "<Figure size 640x480 with 1 Axes>"
      ],
      "image/png": "[encoded data removed]"
     },
     "metadata": {},
     "output_type": "display_data",
     "jetTransient": {
      "display_id": null
     }
    }
   ],
   "execution_count": 128
  },
  {
   "metadata": {
    "ExecuteTime": {
     "end_time": "2025-09-04T03:52:25.527463Z",
     "start_time": "2025-09-04T03:52:25.523072Z"
    }
   },
   "cell_type": "code",
   "source": [
    "import torch\n",
    "from torch.utils.data import DataLoader, TensorDataset\n",
    "\n",
    "num = len(dji)\n",
    "x = torch.tensor(dji['Close'].to_list())\n",
    "# Normalize Input Data\n",
    "x = (x - x.mean()) / x.std()\n",
    "seq_len = 16\n",
    "batch_size = 16\n",
    "\n",
    "X_feature = torch.zeros((num - seq_len, seq_len))\n",
    "Y_label = torch.zeros((num - seq_len, seq_len))\n",
    "\n",
    "for i in range(seq_len):\n",
    "    X_feature[:, i] = x[i: num - seq_len + i]\n",
    "    Y_label[:, i] = x[i + 1: num - seq_len + i + 1]\n",
    "\n",
    "train_loader = DataLoader(TensorDataset(X_feature[: num - seq_len].unsqueeze(2), Y_label[: num - seq_len]),\n",
    "                          batch_size=batch_size, shuffle=True)"
   ],
   "id": "9b1f127a3e4b9d8f",
   "outputs": [],
   "execution_count": 129
  },
  {
   "metadata": {
    "ExecuteTime": {
     "end_time": "2025-09-04T03:52:25.555844Z",
     "start_time": "2025-09-04T03:52:25.552233Z"
    }
   },
   "cell_type": "code",
   "source": [
    "input_size = 1\n",
    "output_size = 1\n",
    "num_hiddens = 64\n",
    "num_layers = 2\n",
    "lr = 0.001\n",
    "\n",
    "model = DRNN(input_size, output_size, num_hiddens, num_layers)\n",
    "loss_fn = nn.MSELoss(reduction='none')\n",
    "optimizer = torch.optim.Adam(model.parameters(), lr=lr)"
   ],
   "id": "5cbc70befcad2dce",
   "outputs": [],
   "execution_count": 130
  },
  {
   "metadata": {
    "ExecuteTime": {
     "end_time": "2025-09-04T03:52:31.017670Z",
     "start_time": "2025-09-04T03:52:25.571062Z"
    }
   },
   "cell_type": "code",
   "source": [
    "num_epochs = 20\n",
    "rnn_loss_history = []\n",
    "\n",
    "for epoch in tqdm(range(num_epochs)):\n",
    "    for X, Y in train_loader:\n",
    "        optimizer.zero_grad()\n",
    "        y_pred = model(X)\n",
    "        loss = loss_fn(y_pred.squeeze(), Y.squeeze())\n",
    "        loss.sum().backward()\n",
    "        optimizer.step()\n",
    "\n",
    "    model.eval()\n",
    "    with torch.no_grad():\n",
    "        total_loss = 0\n",
    "        for X, Y in train_loader:\n",
    "            y_pred = model(X)\n",
    "            loss = loss_fn(y_pred.squeeze(), Y.squeeze())\n",
    "            total_loss += loss.sum() / loss.numel()\n",
    "        avg_loss = total_loss / len(train_loader)\n",
    "        print(f\"Epoch {epoch + 1}: Validation Loss: {avg_loss:.4f}\")\n",
    "        rnn_loss_history.append(avg_loss)"
   ],
   "id": "b82d02da1922efcc",
   "outputs": [
    {
     "name": "stderr",
     "output_type": "stream",
     "text": [
      "  5%|▌         | 1/20 [00:00<00:05,  3.53it/s]"
     ]
    },
    {
     "name": "stdout",
     "output_type": "stream",
     "text": [
      "Epoch 1: Validation Loss: 0.0216\n"
     ]
    },
    {
     "name": "stderr",
     "output_type": "stream",
     "text": [
      " 10%|█         | 2/20 [00:00<00:04,  3.64it/s]"
     ]
    },
    {
     "name": "stdout",
     "output_type": "stream",
     "text": [
      "Epoch 2: Validation Loss: 0.0082\n"
     ]
    },
    {
     "name": "stderr",
     "output_type": "stream",
     "text": [
      " 15%|█▌        | 3/20 [00:00<00:04,  3.63it/s]"
     ]
    },
    {
     "name": "stdout",
     "output_type": "stream",
     "text": [
      "Epoch 3: Validation Loss: 0.0067\n"
     ]
    },
    {
     "name": "stderr",
     "output_type": "stream",
     "text": [
      " 20%|██        | 4/20 [00:01<00:04,  3.64it/s]"
     ]
    },
    {
     "name": "stdout",
     "output_type": "stream",
     "text": [
      "Epoch 4: Validation Loss: 0.0065\n"
     ]
    },
    {
     "name": "stderr",
     "output_type": "stream",
     "text": [
      " 25%|██▌       | 5/20 [00:01<00:04,  3.62it/s]"
     ]
    },
    {
     "name": "stdout",
     "output_type": "stream",
     "text": [
      "Epoch 5: Validation Loss: 0.0061\n"
     ]
    },
    {
     "name": "stderr",
     "output_type": "stream",
     "text": [
      " 30%|███       | 6/20 [00:01<00:03,  3.68it/s]"
     ]
    },
    {
     "name": "stdout",
     "output_type": "stream",
     "text": [
      "Epoch 6: Validation Loss: 0.0061\n"
     ]
    },
    {
     "name": "stderr",
     "output_type": "stream",
     "text": [
      " 35%|███▌      | 7/20 [00:01<00:03,  3.68it/s]"
     ]
    },
    {
     "name": "stdout",
     "output_type": "stream",
     "text": [
      "Epoch 7: Validation Loss: 0.0059\n"
     ]
    },
    {
     "name": "stderr",
     "output_type": "stream",
     "text": [
      " 40%|████      | 8/20 [00:02<00:03,  3.70it/s]"
     ]
    },
    {
     "name": "stdout",
     "output_type": "stream",
     "text": [
      "Epoch 8: Validation Loss: 0.0061\n"
     ]
    },
    {
     "name": "stderr",
     "output_type": "stream",
     "text": [
      " 45%|████▌     | 9/20 [00:02<00:02,  3.71it/s]"
     ]
    },
    {
     "name": "stdout",
     "output_type": "stream",
     "text": [
      "Epoch 9: Validation Loss: 0.0061\n"
     ]
    },
    {
     "name": "stderr",
     "output_type": "stream",
     "text": [
      " 50%|█████     | 10/20 [00:02<00:02,  3.72it/s]"
     ]
    },
    {
     "name": "stdout",
     "output_type": "stream",
     "text": [
      "Epoch 10: Validation Loss: 0.0067\n"
     ]
    },
    {
     "name": "stderr",
     "output_type": "stream",
     "text": [
      " 55%|█████▌    | 11/20 [00:02<00:02,  3.66it/s]"
     ]
    },
    {
     "name": "stdout",
     "output_type": "stream",
     "text": [
      "Epoch 11: Validation Loss: 0.0060\n"
     ]
    },
    {
     "name": "stderr",
     "output_type": "stream",
     "text": [
      " 60%|██████    | 12/20 [00:03<00:02,  3.64it/s]"
     ]
    },
    {
     "name": "stdout",
     "output_type": "stream",
     "text": [
      "Epoch 12: Validation Loss: 0.0062\n"
     ]
    },
    {
     "name": "stderr",
     "output_type": "stream",
     "text": [
      " 65%|██████▌   | 13/20 [00:03<00:01,  3.68it/s]"
     ]
    },
    {
     "name": "stdout",
     "output_type": "stream",
     "text": [
      "Epoch 13: Validation Loss: 0.0063\n"
     ]
    },
    {
     "name": "stderr",
     "output_type": "stream",
     "text": [
      " 70%|███████   | 14/20 [00:03<00:01,  3.72it/s]"
     ]
    },
    {
     "name": "stdout",
     "output_type": "stream",
     "text": [
      "Epoch 14: Validation Loss: 0.0060\n"
     ]
    },
    {
     "name": "stderr",
     "output_type": "stream",
     "text": [
      " 75%|███████▌  | 15/20 [00:04<00:01,  3.69it/s]"
     ]
    },
    {
     "name": "stdout",
     "output_type": "stream",
     "text": [
      "Epoch 15: Validation Loss: 0.0064\n"
     ]
    },
    {
     "name": "stderr",
     "output_type": "stream",
     "text": [
      " 80%|████████  | 16/20 [00:04<00:01,  3.73it/s]"
     ]
    },
    {
     "name": "stdout",
     "output_type": "stream",
     "text": [
      "Epoch 16: Validation Loss: 0.0060\n"
     ]
    },
    {
     "name": "stderr",
     "output_type": "stream",
     "text": [
      " 85%|████████▌ | 17/20 [00:04<00:00,  3.68it/s]"
     ]
    },
    {
     "name": "stdout",
     "output_type": "stream",
     "text": [
      "Epoch 17: Validation Loss: 0.0066\n"
     ]
    },
    {
     "name": "stderr",
     "output_type": "stream",
     "text": [
      " 90%|█████████ | 18/20 [00:04<00:00,  3.66it/s]"
     ]
    },
    {
     "name": "stdout",
     "output_type": "stream",
     "text": [
      "Epoch 18: Validation Loss: 0.0058\n"
     ]
    },
    {
     "name": "stderr",
     "output_type": "stream",
     "text": [
      " 95%|█████████▌| 19/20 [00:05<00:00,  3.67it/s]"
     ]
    },
    {
     "name": "stdout",
     "output_type": "stream",
     "text": [
      "Epoch 19: Validation Loss: 0.0058\n"
     ]
    },
    {
     "name": "stderr",
     "output_type": "stream",
     "text": [
      "100%|██████████| 20/20 [00:05<00:00,  3.68it/s]"
     ]
    },
    {
     "name": "stdout",
     "output_type": "stream",
     "text": [
      "Epoch 20: Validation Loss: 0.0064\n"
     ]
    },
    {
     "name": "stderr",
     "output_type": "stream",
     "text": [
      "\n"
     ]
    }
   ],
   "execution_count": 131
  },
  {
   "metadata": {
    "ExecuteTime": {
     "end_time": "2025-09-04T03:52:31.121188Z",
     "start_time": "2025-09-04T03:52:31.050307Z"
    }
   },
   "cell_type": "code",
   "source": [
    "import matplotlib.pyplot as plt\n",
    "\n",
    "plt.plot(rnn_loss_history, label=\"RNN Loss\")\n",
    "plt.legend()\n",
    "plt.show()"
   ],
   "id": "7210e58197e0f4ee",
   "outputs": [
    {
     "data": {
      "text/plain": [
       "<Figure size 640x480 with 1 Axes>"
      ],
      "image/png": "[encoded data removed]"
     },
     "metadata": {},
     "output_type": "display_data",
     "jetTransient": {
      "display_id": null
     }
    }
   ],
   "execution_count": 132
  },
  {
   "metadata": {
    "ExecuteTime": {
     "end_time": "2025-09-04T03:52:31.196756Z",
     "start_time": "2025-09-04T03:52:31.125552Z"
    }
   },
   "cell_type": "code",
   "source": [
    "rnn_preds = model(X_feature.unsqueeze(dim=2))\n",
    "rnn_preds.squeeze()\n",
    "time = torch.arange(1, num + 1, dtype=torch.float32)\n",
    "\n",
    "plt.plot(time[: num - seq_len], x[seq_len: num], label=\"DJI\")\n",
    "plt.plot(time[: num - seq_len], rnn_preds[:, seq_len - 1].detach(), label=\"RNN Prediction\")\n",
    "plt.legend()\n",
    "plt.show()"
   ],
   "id": "ba1d49fe0d932088",
   "outputs": [
    {
     "data": {
      "text/plain": [
       "<Figure size 640x480 with 1 Axes>"
      ],
      "image/png": "[encoded data removed]"
     },
     "metadata": {},
     "output_type": "display_data",
     "jetTransient": {
      "display_id": null
     }
    }
   ],
   "execution_count": 133
  },
  {
   "metadata": {
    "ExecuteTime": {
     "end_time": "2025-09-04T03:52:53.833585Z",
     "start_time": "2025-09-04T03:52:31.202025Z"
    }
   },
   "cell_type": "code",
   "source": [
    "input_size = 1\n",
    "output_size = 1\n",
    "num_hiddens = 64\n",
    "num_layers = 2\n",
    "lr = 0.001\n",
    "\n",
    "model_name = ['DRNN', 'BRNN', 'LSTM', 'GRU']\n",
    "drnn = DRNN(input_size, output_size, num_hiddens, num_layers)\n",
    "brnn = BRNN(input_size, output_size, num_hiddens, num_layers)\n",
    "lstm = LSTM(input_size, output_size, num_hiddens, num_layers)\n",
    "gru = GRU(input_size, output_size, num_hiddens, num_layers)\n",
    "models = [drnn, brnn, lstm, gru]\n",
    "\n",
    "optimizers = [torch.optim.Adam(drnn.parameters(), lr=lr),\n",
    "              torch.optim.Adam(brnn.parameters(), lr=lr),\n",
    "              torch.optim.Adam(lstm.parameters(), lr=lr),\n",
    "              torch.optim.Adam(gru.parameters(), lr=lr)]\n",
    "loss_fn = nn.MSELoss(reduction='none')\n",
    "\n",
    "num_epochs = 20\n",
    "rnn_loss_history = []\n",
    "lr = 0.1\n",
    "\n",
    "for epoch in tqdm(range(num_epochs)):\n",
    "    for X, Y in train_loader:\n",
    "        for index, (model, optimizer) in enumerate(zip(models, optimizers)):\n",
    "            y_pred = model(X)\n",
    "            loss = loss_fn(y_pred.squeeze(), Y.squeeze())\n",
    "            optimizer.zero_grad()\n",
    "            loss.sum().backward()\n",
    "            optimizer.step()"
   ],
   "id": "a751ccdf48273c7b",
   "outputs": [
    {
     "name": "stderr",
     "output_type": "stream",
     "text": [
      "100%|██████████| 20/20 [00:22<00:00,  1.13s/it]\n"
     ]
    }
   ],
   "execution_count": 134
  },
  {
   "metadata": {
    "ExecuteTime": {
     "end_time": "2025-09-04T03:52:53.931214Z",
     "start_time": "2025-09-04T03:52:53.863203Z"
    }
   },
   "cell_type": "code",
   "source": [
    "for i in range(len(models)):\n",
    "    rnn_preds = models[i](X_feature.unsqueeze(dim=2))\n",
    "    bias = torch.sum(x[seq_len:num] - rnn_preds[:, seq_len-1].detach().numpy())\n",
    "    print(f\"Model {model_name[i]} bias: {bias:.4f}\")\n"
   ],
   "id": "5567315f3ab212cc",
   "outputs": [
    {
     "name": "stdout",
     "output_type": "stream",
     "text": [
      "Model DRNN bias: 28090.3750\n",
      "Model BRNN bias: 11847.8750\n",
      "Model LSTM bias: 299.6094\n",
      "Model GRU bias: 1362.4531\n"
     ]
    },
    {
     "name": "stderr",
     "output_type": "stream",
     "text": [
      "C:\\Users\\yuanz\\AppData\\Local\\Temp\\ipykernel_21968\\1003854137.py:3: DeprecationWarning: __array_wrap__ must accept context and return_scalar arguments (positionally) in the future. (Deprecated NumPy 2.0)\n",
      "  bias = torch.sum(x[seq_len:num] - rnn_preds[:, seq_len-1].detach().numpy())\n"
     ]
    }
   ],
   "execution_count": 135
  }
 ],
 "metadata": {
  "kernelspec": {
   "display_name": "Python 3",
   "language": "python",
   "name": "python3"
  },
  "language_info": {
   "codemirror_mode": {
    "name": "ipython",
    "version": 2
   },
   "file_extension": ".py",
   "mimetype": "text/x-python",
   "name": "python",
   "nbconvert_exporter": "python",
   "pygments_lexer": "ipython2",
   "version": "2.7.6"
  }
 },
 "nbformat": 4,
 "nbformat_minor": 5
}
