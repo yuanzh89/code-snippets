{
 "cells": [
  {
   "cell_type": "code",
   "id": "initial_id",
   "metadata": {
    "collapsed": true,
    "ExecuteTime": {
     "end_time": "2025-08-26T02:43:58.352154Z",
     "start_time": "2025-08-26T02:43:56.202546Z"
    }
   },
   "source": [
    "import torch\n",
    "from torchvision import datasets\n",
    "from torchvision import transforms\n",
    "import torch.nn as nn\n",
    "import torch.optim as optim"
   ],
   "outputs": [],
   "execution_count": 1
  },
  {
   "metadata": {},
   "cell_type": "markdown",
   "source": "## Data",
   "id": "4fb74e5ba31a1be9"
  },
  {
   "metadata": {
    "ExecuteTime": {
     "end_time": "2025-08-26T02:43:58.403926Z",
     "start_time": "2025-08-26T02:43:58.356131Z"
    }
   },
   "cell_type": "code",
   "source": [
    "train_data = datasets.MNIST(\n",
    "    root='data/mnist',\n",
    "    train=True,\n",
    "    transform=transforms.ToTensor(),\n",
    "    download=True,\n",
    ")\n",
    "\n",
    "test_data = datasets.MNIST(\n",
    "    root='data/mnist',\n",
    "    train=False,\n",
    "    transform=transforms.ToTensor(),\n",
    "    download=True,\n",
    ")"
   ],
   "id": "76ad725dedd91a91",
   "outputs": [],
   "execution_count": 2
  },
  {
   "metadata": {
    "ExecuteTime": {
     "end_time": "2025-08-26T02:43:58.411483Z",
     "start_time": "2025-08-26T02:43:58.408652Z"
    }
   },
   "cell_type": "code",
   "source": [
    "batch_size = 100\n",
    "\n",
    "train_loader = torch.utils.data.DataLoader(\n",
    "    dataset=train_data,\n",
    "    batch_size=batch_size,\n",
    "    shuffle=True,\n",
    ")\n",
    "\n",
    "test_loader = torch.utils.data.DataLoader(\n",
    "    dataset=test_data,\n",
    "    batch_size=batch_size,\n",
    "    shuffle=False,\n",
    ")"
   ],
   "id": "e5d640d8fcbed3fa",
   "outputs": [],
   "execution_count": 3
  },
  {
   "metadata": {},
   "cell_type": "markdown",
   "source": "## Network Structure",
   "id": "18053f415e27a4d4"
  },
  {
   "metadata": {
    "ExecuteTime": {
     "end_time": "2025-08-26T02:43:58.418149Z",
     "start_time": "2025-08-26T02:43:58.414444Z"
    }
   },
   "cell_type": "code",
   "source": [
    "class MLP(nn.Module):\n",
    "    def __init__(self, input_size, hidden_size, num_classes):\n",
    "        super(MLP, self).__init__()\n",
    "\n",
    "        self.flatten = nn.Flatten()\n",
    "        self.relu = nn.ReLU()\n",
    "        self.fc1 = nn.Linear(input_size, hidden_size)\n",
    "        self.fc2 = nn.Linear(hidden_size, hidden_size)\n",
    "        self.fc3 = nn.Linear(hidden_size, num_classes)\n",
    "\n",
    "    def forward(self, x):\n",
    "        output = self.flatten(x)\n",
    "        output = self.fc1(output)\n",
    "        output = self.relu(output)\n",
    "        output = self.fc2(output)\n",
    "        output = self.relu(output)\n",
    "        output = self.fc3(output)\n",
    "\n",
    "        return output"
   ],
   "id": "676dfe1b4845a07e",
   "outputs": [],
   "execution_count": 4
  },
  {
   "metadata": {
    "ExecuteTime": {
     "end_time": "2025-08-26T02:43:58.423658Z",
     "start_time": "2025-08-26T02:43:58.420989Z"
    }
   },
   "cell_type": "code",
   "source": [
    "input_size = 28 * 28\n",
    "hidden_size = 1512\n",
    "num_classes = 10"
   ],
   "id": "ddef8f3565b7c0bc",
   "outputs": [],
   "execution_count": 5
  },
  {
   "metadata": {
    "ExecuteTime": {
     "end_time": "2025-08-26T02:43:58.440041Z",
     "start_time": "2025-08-26T02:43:58.426660Z"
    }
   },
   "cell_type": "code",
   "source": "model = MLP(input_size, hidden_size, num_classes)",
   "id": "28c27887d4b029b1",
   "outputs": [],
   "execution_count": 6
  },
  {
   "metadata": {},
   "cell_type": "markdown",
   "source": "# Loss Function",
   "id": "dff9912446de90a1"
  },
  {
   "metadata": {
    "ExecuteTime": {
     "end_time": "2025-08-26T02:43:58.445548Z",
     "start_time": "2025-08-26T02:43:58.443193Z"
    }
   },
   "cell_type": "code",
   "source": "loss_fn = nn.CrossEntropyLoss()",
   "id": "4c34337cc00016fc",
   "outputs": [],
   "execution_count": 7
  },
  {
   "metadata": {},
   "cell_type": "markdown",
   "source": "# Optimizer",
   "id": "274867d4060b27b4"
  },
  {
   "metadata": {
    "ExecuteTime": {
     "end_time": "2025-08-26T02:43:58.450891Z",
     "start_time": "2025-08-26T02:43:58.448146Z"
    }
   },
   "cell_type": "code",
   "source": [
    "learning_rate = 0.001\n",
    "optimizer = optim.Adam(model.parameters(), lr=learning_rate)"
   ],
   "id": "496884a0c4f06833",
   "outputs": [],
   "execution_count": 8
  },
  {
   "metadata": {},
   "cell_type": "markdown",
   "source": "## Training",
   "id": "a4964bdc6949e1fc"
  },
  {
   "metadata": {
    "ExecuteTime": {
     "end_time": "2025-08-26T02:45:16.510577Z",
     "start_time": "2025-08-26T02:43:58.454705Z"
    }
   },
   "cell_type": "code",
   "source": [
    "num_epochs = 10\n",
    "\n",
    "for epoch in range(num_epochs):\n",
    "    for i, (images, labels) in enumerate(train_loader):\n",
    "        pred = model(images)\n",
    "        loss = loss_fn(pred, labels)\n",
    "\n",
    "        loss.backward()\n",
    "        optimizer.step()\n",
    "        optimizer.zero_grad()\n",
    "\n",
    "        if (i + 1) % 100 == 0:\n",
    "            print(f'Epoch [{epoch + 1}/{num_epochs}], Step [{i + 1}/{len(train_loader)}], Loss: {loss.item():.4f}')"
   ],
   "id": "bd175ffb94ef2b1c",
   "outputs": [
    {
     "name": "stdout",
     "output_type": "stream",
     "text": [
      "Epoch [1/10], Step [100/600], Loss: 0.2373\n",
      "Epoch [1/10], Step [200/600], Loss: 0.1100\n",
      "Epoch [1/10], Step [300/600], Loss: 0.0721\n",
      "Epoch [1/10], Step [400/600], Loss: 0.1046\n",
      "Epoch [1/10], Step [500/600], Loss: 0.0604\n",
      "Epoch [1/10], Step [600/600], Loss: 0.1232\n",
      "Epoch [2/10], Step [100/600], Loss: 0.0792\n",
      "Epoch [2/10], Step [200/600], Loss: 0.0800\n",
      "Epoch [2/10], Step [300/600], Loss: 0.0729\n",
      "Epoch [2/10], Step [400/600], Loss: 0.0376\n",
      "Epoch [2/10], Step [500/600], Loss: 0.0164\n",
      "Epoch [2/10], Step [600/600], Loss: 0.0802\n",
      "Epoch [3/10], Step [100/600], Loss: 0.0129\n",
      "Epoch [3/10], Step [200/600], Loss: 0.0931\n",
      "Epoch [3/10], Step [300/600], Loss: 0.1247\n",
      "Epoch [3/10], Step [400/600], Loss: 0.0239\n",
      "Epoch [3/10], Step [500/600], Loss: 0.1550\n",
      "Epoch [3/10], Step [600/600], Loss: 0.0939\n",
      "Epoch [4/10], Step [100/600], Loss: 0.0382\n",
      "Epoch [4/10], Step [200/600], Loss: 0.0245\n",
      "Epoch [4/10], Step [300/600], Loss: 0.0919\n",
      "Epoch [4/10], Step [400/600], Loss: 0.0119\n",
      "Epoch [4/10], Step [500/600], Loss: 0.0227\n",
      "Epoch [4/10], Step [600/600], Loss: 0.0385\n",
      "Epoch [5/10], Step [100/600], Loss: 0.0058\n",
      "Epoch [5/10], Step [200/600], Loss: 0.0706\n",
      "Epoch [5/10], Step [300/600], Loss: 0.0201\n",
      "Epoch [5/10], Step [400/600], Loss: 0.0296\n",
      "Epoch [5/10], Step [500/600], Loss: 0.0991\n",
      "Epoch [5/10], Step [600/600], Loss: 0.0497\n",
      "Epoch [6/10], Step [100/600], Loss: 0.0250\n",
      "Epoch [6/10], Step [200/600], Loss: 0.0057\n",
      "Epoch [6/10], Step [300/600], Loss: 0.0381\n",
      "Epoch [6/10], Step [400/600], Loss: 0.0882\n",
      "Epoch [6/10], Step [500/600], Loss: 0.0036\n",
      "Epoch [6/10], Step [600/600], Loss: 0.0255\n",
      "Epoch [7/10], Step [100/600], Loss: 0.0095\n",
      "Epoch [7/10], Step [200/600], Loss: 0.0157\n",
      "Epoch [7/10], Step [300/600], Loss: 0.0003\n",
      "Epoch [7/10], Step [400/600], Loss: 0.0014\n",
      "Epoch [7/10], Step [500/600], Loss: 0.0166\n",
      "Epoch [7/10], Step [600/600], Loss: 0.0003\n",
      "Epoch [8/10], Step [100/600], Loss: 0.0240\n",
      "Epoch [8/10], Step [200/600], Loss: 0.0987\n",
      "Epoch [8/10], Step [300/600], Loss: 0.0001\n",
      "Epoch [8/10], Step [400/600], Loss: 0.0014\n",
      "Epoch [8/10], Step [500/600], Loss: 0.0210\n",
      "Epoch [8/10], Step [600/600], Loss: 0.0032\n",
      "Epoch [9/10], Step [100/600], Loss: 0.0003\n",
      "Epoch [9/10], Step [200/600], Loss: 0.0001\n",
      "Epoch [9/10], Step [300/600], Loss: 0.0022\n",
      "Epoch [9/10], Step [400/600], Loss: 0.1022\n",
      "Epoch [9/10], Step [500/600], Loss: 0.0166\n",
      "Epoch [9/10], Step [600/600], Loss: 0.0359\n",
      "Epoch [10/10], Step [100/600], Loss: 0.0111\n",
      "Epoch [10/10], Step [200/600], Loss: 0.0134\n",
      "Epoch [10/10], Step [300/600], Loss: 0.0000\n",
      "Epoch [10/10], Step [400/600], Loss: 0.0186\n",
      "Epoch [10/10], Step [500/600], Loss: 0.0015\n",
      "Epoch [10/10], Step [600/600], Loss: 0.0013\n"
     ]
    }
   ],
   "execution_count": 9
  },
  {
   "metadata": {},
   "cell_type": "markdown",
   "source": "## Test",
   "id": "c9b6a1f3558056f5"
  },
  {
   "metadata": {
    "ExecuteTime": {
     "end_time": "2025-08-26T02:45:17.218290Z",
     "start_time": "2025-08-26T02:45:16.597273Z"
    }
   },
   "cell_type": "code",
   "source": [
    "with torch.no_grad():\n",
    "    correct = 0\n",
    "    total = 0\n",
    "    for images, labels in test_loader:\n",
    "        pred = model(images)\n",
    "        # Gets the index of the largest prediction value in logits\n",
    "        _, predicted = torch.max(pred.data, 1)\n",
    "        total += labels.size(0)\n",
    "        correct += (predicted == labels).sum().item()\n",
    "\n",
    "    print(f\"Accuracy of the network on 10K test images: {100 * correct / total}\")"
   ],
   "id": "6aad15114b6846dd",
   "outputs": [
    {
     "name": "stdout",
     "output_type": "stream",
     "text": [
      "Accuracy of the network on 10K test images: 98.06\n"
     ]
    }
   ],
   "execution_count": 10
  },
  {
   "metadata": {},
   "cell_type": "markdown",
   "source": "## Save Model",
   "id": "e5b087bd33f61114"
  }
 ],
 "metadata": {
  "kernelspec": {
   "display_name": "Python 3",
   "language": "python",
   "name": "python3"
  },
  "language_info": {
   "codemirror_mode": {
    "name": "ipython",
    "version": 2
   },
   "file_extension": ".py",
   "mimetype": "text/x-python",
   "name": "python",
   "nbconvert_exporter": "python",
   "pygments_lexer": "ipython2",
   "version": "2.7.6"
  }
 },
 "nbformat": 4,
 "nbformat_minor": 5
}
