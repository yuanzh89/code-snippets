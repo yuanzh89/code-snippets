{
 "cells": [
  {
   "cell_type": "code",
   "id": "initial_id",
   "metadata": {
    "collapsed": true,
    "ExecuteTime": {
     "end_time": "2025-08-22T22:40:46.807534Z",
     "start_time": "2025-08-22T22:40:46.805035Z"
    }
   },
   "source": [
    "import torch\n",
    "from torchvision import datasets\n",
    "from torchvision import transforms\n",
    "import torch.nn as nn\n",
    "import torch.optim as optim"
   ],
   "outputs": [],
   "execution_count": 20
  },
  {
   "metadata": {},
   "cell_type": "markdown",
   "source": "## Data",
   "id": "4fb74e5ba31a1be9"
  },
  {
   "metadata": {
    "ExecuteTime": {
     "end_time": "2025-08-22T22:40:46.836045Z",
     "start_time": "2025-08-22T22:40:46.812048Z"
    }
   },
   "cell_type": "code",
   "source": [
    "train_data = datasets.MNIST(\n",
    "    root='data/mnist',\n",
    "    train=True,\n",
    "    transform=transforms.ToTensor(),\n",
    "    download=True,\n",
    ")\n",
    "\n",
    "test_data = datasets.MNIST(\n",
    "    root='data/mnist',\n",
    "    train=False,\n",
    "    transform=transforms.ToTensor(),\n",
    "    download=True,\n",
    ")"
   ],
   "id": "76ad725dedd91a91",
   "outputs": [],
   "execution_count": 21
  },
  {
   "metadata": {
    "ExecuteTime": {
     "end_time": "2025-08-22T22:40:46.845741Z",
     "start_time": "2025-08-22T22:40:46.839550Z"
    }
   },
   "cell_type": "code",
   "source": [
    "batch_size = 100\n",
    "\n",
    "train_loader = torch.utils.data.DataLoader(\n",
    "    dataset=train_data,\n",
    "    batch_size=batch_size,\n",
    "    shuffle=True,\n",
    ")\n",
    "\n",
    "test_loader = torch.utils.data.DataLoader(\n",
    "    dataset=test_data,\n",
    "    batch_size=batch_size,\n",
    "    shuffle=False,\n",
    ")"
   ],
   "id": "e5d640d8fcbed3fa",
   "outputs": [],
   "execution_count": 22
  },
  {
   "metadata": {},
   "cell_type": "markdown",
   "source": "## Network Structure",
   "id": "18053f415e27a4d4"
  },
  {
   "metadata": {
    "ExecuteTime": {
     "end_time": "2025-08-22T22:40:46.853742Z",
     "start_time": "2025-08-22T22:40:46.847744Z"
    }
   },
   "cell_type": "code",
   "source": [
    "class MLP(nn.Module):\n",
    "    def __init__(self, input_size, hidden_size, num_classes):\n",
    "        super(MLP, self).__init__()\n",
    "\n",
    "        self.flatten = nn.Flatten()\n",
    "        self.relu = nn.ReLU()\n",
    "        self.fc1 = nn.Linear(input_size, hidden_size)\n",
    "        self.fc2 = nn.Linear(hidden_size, hidden_size)\n",
    "        self.fc3 = nn.Linear(hidden_size, num_classes)\n",
    "\n",
    "    def forward(self, x):\n",
    "        output = self.flatten(x)\n",
    "        output = self.fc1(output)\n",
    "        output = self.relu(output)\n",
    "        output = self.fc2(output)\n",
    "        output = self.relu(output)\n",
    "        output = self.fc3(output)\n",
    "\n",
    "        return output"
   ],
   "id": "676dfe1b4845a07e",
   "outputs": [],
   "execution_count": 23
  },
  {
   "metadata": {
    "ExecuteTime": {
     "end_time": "2025-08-22T22:40:46.862223Z",
     "start_time": "2025-08-22T22:40:46.855745Z"
    }
   },
   "cell_type": "code",
   "source": [
    "input_size = 28 * 28\n",
    "hidden_size = 1512\n",
    "num_classes = 10"
   ],
   "id": "ddef8f3565b7c0bc",
   "outputs": [],
   "execution_count": 24
  },
  {
   "metadata": {
    "ExecuteTime": {
     "end_time": "2025-08-22T22:40:46.882570Z",
     "start_time": "2025-08-22T22:40:46.864228Z"
    }
   },
   "cell_type": "code",
   "source": "model = MLP(input_size, hidden_size, num_classes)",
   "id": "28c27887d4b029b1",
   "outputs": [],
   "execution_count": 25
  },
  {
   "metadata": {},
   "cell_type": "markdown",
   "source": "# Loss Function",
   "id": "dff9912446de90a1"
  },
  {
   "metadata": {
    "ExecuteTime": {
     "end_time": "2025-08-22T22:40:46.887985Z",
     "start_time": "2025-08-22T22:40:46.885574Z"
    }
   },
   "cell_type": "code",
   "source": "loss_fn = nn.CrossEntropyLoss()",
   "id": "4c34337cc00016fc",
   "outputs": [],
   "execution_count": 26
  },
  {
   "metadata": {},
   "cell_type": "markdown",
   "source": "# Optimizer",
   "id": "274867d4060b27b4"
  },
  {
   "metadata": {
    "ExecuteTime": {
     "end_time": "2025-08-22T22:40:46.897997Z",
     "start_time": "2025-08-22T22:40:46.889989Z"
    }
   },
   "cell_type": "code",
   "source": [
    "learning_rate = 0.001\n",
    "optimizer = optim.Adam(model.parameters(), lr=learning_rate)"
   ],
   "id": "496884a0c4f06833",
   "outputs": [],
   "execution_count": 27
  },
  {
   "metadata": {},
   "cell_type": "markdown",
   "source": "## Training",
   "id": "a4964bdc6949e1fc"
  },
  {
   "metadata": {
    "ExecuteTime": {
     "end_time": "2025-08-22T22:42:08.699393Z",
     "start_time": "2025-08-22T22:40:46.902295Z"
    }
   },
   "cell_type": "code",
   "source": [
    "num_epochs = 10\n",
    "\n",
    "for epoch in range(num_epochs):\n",
    "    for i, (images, labels) in enumerate(train_loader):\n",
    "        pred = model(images)\n",
    "        loss = loss_fn(pred, labels)\n",
    "\n",
    "        loss.backward()\n",
    "        optimizer.step()\n",
    "        optimizer.zero_grad()\n",
    "\n",
    "        if (i + 1) % 100 == 0:\n",
    "            print(f'Epoch [{epoch + 1}/{num_epochs}], Step [{i + 1}/{len(train_loader)}], Loss: {loss.item():.4f}')"
   ],
   "id": "bd175ffb94ef2b1c",
   "outputs": [
    {
     "name": "stdout",
     "output_type": "stream",
     "text": [
      "Epoch [1/10], Step [100/600], Loss: 0.1319\n",
      "Epoch [1/10], Step [200/600], Loss: 0.1471\n",
      "Epoch [1/10], Step [300/600], Loss: 0.3236\n",
      "Epoch [1/10], Step [400/600], Loss: 0.1513\n",
      "Epoch [1/10], Step [500/600], Loss: 0.1950\n",
      "Epoch [1/10], Step [600/600], Loss: 0.1180\n",
      "Epoch [2/10], Step [100/600], Loss: 0.1008\n",
      "Epoch [2/10], Step [200/600], Loss: 0.0829\n",
      "Epoch [2/10], Step [300/600], Loss: 0.2032\n",
      "Epoch [2/10], Step [400/600], Loss: 0.2103\n",
      "Epoch [2/10], Step [500/600], Loss: 0.1199\n",
      "Epoch [2/10], Step [600/600], Loss: 0.0293\n",
      "Epoch [3/10], Step [100/600], Loss: 0.0918\n",
      "Epoch [3/10], Step [200/600], Loss: 0.0793\n",
      "Epoch [3/10], Step [300/600], Loss: 0.0182\n",
      "Epoch [3/10], Step [400/600], Loss: 0.0152\n",
      "Epoch [3/10], Step [500/600], Loss: 0.0368\n",
      "Epoch [3/10], Step [600/600], Loss: 0.0676\n",
      "Epoch [4/10], Step [100/600], Loss: 0.0402\n",
      "Epoch [4/10], Step [200/600], Loss: 0.0021\n",
      "Epoch [4/10], Step [300/600], Loss: 0.0517\n",
      "Epoch [4/10], Step [400/600], Loss: 0.0117\n",
      "Epoch [4/10], Step [500/600], Loss: 0.0620\n",
      "Epoch [4/10], Step [600/600], Loss: 0.0181\n",
      "Epoch [5/10], Step [100/600], Loss: 0.0163\n",
      "Epoch [5/10], Step [200/600], Loss: 0.0049\n",
      "Epoch [5/10], Step [300/600], Loss: 0.0091\n",
      "Epoch [5/10], Step [400/600], Loss: 0.0420\n",
      "Epoch [5/10], Step [500/600], Loss: 0.1372\n",
      "Epoch [5/10], Step [600/600], Loss: 0.0456\n",
      "Epoch [6/10], Step [100/600], Loss: 0.0173\n",
      "Epoch [6/10], Step [200/600], Loss: 0.0120\n",
      "Epoch [6/10], Step [300/600], Loss: 0.1089\n",
      "Epoch [6/10], Step [400/600], Loss: 0.0217\n",
      "Epoch [6/10], Step [500/600], Loss: 0.0304\n",
      "Epoch [6/10], Step [600/600], Loss: 0.0269\n",
      "Epoch [7/10], Step [100/600], Loss: 0.0688\n",
      "Epoch [7/10], Step [200/600], Loss: 0.0202\n",
      "Epoch [7/10], Step [300/600], Loss: 0.0030\n",
      "Epoch [7/10], Step [400/600], Loss: 0.0786\n",
      "Epoch [7/10], Step [500/600], Loss: 0.0007\n",
      "Epoch [7/10], Step [600/600], Loss: 0.0070\n",
      "Epoch [8/10], Step [100/600], Loss: 0.0654\n",
      "Epoch [8/10], Step [200/600], Loss: 0.0072\n",
      "Epoch [8/10], Step [300/600], Loss: 0.0032\n",
      "Epoch [8/10], Step [400/600], Loss: 0.0267\n",
      "Epoch [8/10], Step [500/600], Loss: 0.0004\n",
      "Epoch [8/10], Step [600/600], Loss: 0.0355\n",
      "Epoch [9/10], Step [100/600], Loss: 0.0050\n",
      "Epoch [9/10], Step [200/600], Loss: 0.1198\n",
      "Epoch [9/10], Step [300/600], Loss: 0.0166\n",
      "Epoch [9/10], Step [400/600], Loss: 0.0399\n",
      "Epoch [9/10], Step [500/600], Loss: 0.0291\n",
      "Epoch [9/10], Step [600/600], Loss: 0.0020\n",
      "Epoch [10/10], Step [100/600], Loss: 0.0082\n",
      "Epoch [10/10], Step [200/600], Loss: 0.0015\n",
      "Epoch [10/10], Step [300/600], Loss: 0.0105\n",
      "Epoch [10/10], Step [400/600], Loss: 0.0132\n",
      "Epoch [10/10], Step [500/600], Loss: 0.0001\n",
      "Epoch [10/10], Step [600/600], Loss: 0.0334\n"
     ]
    }
   ],
   "execution_count": 28
  },
  {
   "metadata": {},
   "cell_type": "markdown",
   "source": "## Test",
   "id": "c9b6a1f3558056f5"
  },
  {
   "metadata": {
    "ExecuteTime": {
     "end_time": "2025-08-22T22:42:09.478833Z",
     "start_time": "2025-08-22T22:42:08.800931Z"
    }
   },
   "cell_type": "code",
   "source": [
    "with torch.no_grad():\n",
    "    correct = 0\n",
    "    total = 0\n",
    "    for images, labels in test_loader:\n",
    "        pred = model(images)\n",
    "        # Gets the index of the largest prediction value in logits\n",
    "        _, predicted = torch.max(pred.data, 1)\n",
    "        total += labels.size(0)\n",
    "        correct += (predicted == labels).sum().item()\n",
    "\n",
    "    print(f\"Accuracy of the network on 10K test images: {100 * correct / total}\")"
   ],
   "id": "6aad15114b6846dd",
   "outputs": [
    {
     "name": "stdout",
     "output_type": "stream",
     "text": [
      "Accuracy of the network on 10K test images: 97.97\n"
     ]
    }
   ],
   "execution_count": 29
  },
  {
   "metadata": {},
   "cell_type": "markdown",
   "source": "## Save Model",
   "id": "e5b087bd33f61114"
  }
 ],
 "metadata": {
  "kernelspec": {
   "display_name": "Python 3",
   "language": "python",
   "name": "python3"
  },
  "language_info": {
   "codemirror_mode": {
    "name": "ipython",
    "version": 2
   },
   "file_extension": ".py",
   "mimetype": "text/x-python",
   "name": "python",
   "nbconvert_exporter": "python",
   "pygments_lexer": "ipython2",
   "version": "2.7.6"
  }
 },
 "nbformat": 4,
 "nbformat_minor": 5
}
