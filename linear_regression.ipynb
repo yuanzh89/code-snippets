{
 "cells": [
  {
   "cell_type": "code",
   "id": "initial_id",
   "metadata": {
    "collapsed": true,
    "ExecuteTime": {
     "end_time": "2025-08-26T02:25:08.581496Z",
     "start_time": "2025-08-26T02:24:40.793485Z"
    }
   },
   "source": [
    "import numpy as np\n",
    "import torch\n",
    "import torch.nn as nn\n",
    "\n",
    "np.random.seed(42)\n",
    "\n",
    "x = np.random.rand(100, 1)\n",
    "y = 1 + 2 * x + 0.1 * np.random.randn(100, 1)\n",
    "\n",
    "x_tensor = torch.from_numpy(x).float()\n",
    "y_tensor = torch.from_numpy(y).float()"
   ],
   "outputs": [],
   "execution_count": 2
  },
  {
   "metadata": {
    "ExecuteTime": {
     "end_time": "2025-08-26T02:25:08.588095Z",
     "start_time": "2025-08-26T02:25:08.586157Z"
    }
   },
   "cell_type": "code",
   "source": [
    "learning_rate = 0.1\n",
    "num_epochs = 1000"
   ],
   "id": "ccca640dad8e8b70",
   "outputs": [],
   "execution_count": 3
  },
  {
   "metadata": {
    "ExecuteTime": {
     "end_time": "2025-08-26T02:25:08.596504Z",
     "start_time": "2025-08-26T02:25:08.591169Z"
    }
   },
   "cell_type": "code",
   "source": [
    "input_dim = 1\n",
    "output_dim = 1"
   ],
   "id": "a19cf244ab6ae55",
   "outputs": [],
   "execution_count": 4
  },
  {
   "metadata": {
    "ExecuteTime": {
     "end_time": "2025-08-26T02:25:08.605236Z",
     "start_time": "2025-08-26T02:25:08.598919Z"
    }
   },
   "cell_type": "code",
   "source": "model = nn.Linear(input_dim, output_dim)",
   "id": "7abeeead5adb4e3b",
   "outputs": [],
   "execution_count": 5
  },
  {
   "metadata": {
    "ExecuteTime": {
     "end_time": "2025-08-26T02:25:09.322880Z",
     "start_time": "2025-08-26T02:25:08.608392Z"
    }
   },
   "cell_type": "code",
   "source": [
    "loss_fn = nn.MSELoss()\n",
    "optimizer = torch.optim.SGD(model.parameters(), lr=learning_rate)"
   ],
   "id": "54a415f3666bf84d",
   "outputs": [],
   "execution_count": 6
  },
  {
   "metadata": {
    "ExecuteTime": {
     "end_time": "2025-08-26T02:25:09.488579Z",
     "start_time": "2025-08-26T02:25:09.328744Z"
    }
   },
   "cell_type": "code",
   "source": [
    "for epoch in range(num_epochs):\n",
    "    y_pred = model(x_tensor)\n",
    "    loss = loss_fn(y_pred, y_tensor)\n",
    "    optimizer.zero_grad()\n",
    "    loss.backward()\n",
    "    optimizer.step()\n",
    "\n",
    "print(f\"w: {model.weight.data}\")\n",
    "print(f\"b: {model.bias.data}\")"
   ],
   "id": "7f401d1e122376b7",
   "outputs": [
    {
     "name": "stdout",
     "output_type": "stream",
     "text": [
      "w: tensor([[1.9540]])\n",
      "b: tensor([1.0215])\n"
     ]
    }
   ],
   "execution_count": 7
  }
 ],
 "metadata": {
  "kernelspec": {
   "display_name": "Python 3",
   "language": "python",
   "name": "python3"
  },
  "language_info": {
   "codemirror_mode": {
    "name": "ipython",
    "version": 2
   },
   "file_extension": ".py",
   "mimetype": "text/x-python",
   "name": "python",
   "nbconvert_exporter": "python",
   "pygments_lexer": "ipython2",
   "version": "2.7.6"
  }
 },
 "nbformat": 4,
 "nbformat_minor": 5
}
