{
 "cells": [
  {
   "cell_type": "code",
   "id": "initial_id",
   "metadata": {
    "collapsed": true,
    "ExecuteTime": {
     "end_time": "2025-08-31T04:08:01.527494Z",
     "start_time": "2025-08-31T04:08:01.525399Z"
    }
   },
   "source": [
    "import torch\n",
    "import torch.nn as nn\n",
    "from torchinfo import summary\n",
    "\n",
    "import torch.optim as optim\n",
    "from torch.utils.data import DataLoader\n",
    "from torchvision import datasets, transforms\n",
    "from tqdm import *\n",
    "import numpy as np\n",
    "import sys"
   ],
   "outputs": [],
   "execution_count": 6
  },
  {
   "metadata": {
    "ExecuteTime": {
     "end_time": "2025-08-31T04:08:01.536410Z",
     "start_time": "2025-08-31T04:08:01.533150Z"
    }
   },
   "cell_type": "code",
   "source": [
    "class LeNet(nn.Module):\n",
    "    def __init__(self):\n",
    "        super(LeNet, self).__init__()\n",
    "\n",
    "        self.conv1 = nn.Sequential(\n",
    "            nn.Conv2d(in_channels=1, out_channels=6, kernel_size=5),\n",
    "            nn.BatchNorm2d(num_features=6),\n",
    "            nn.ReLU(),\n",
    "            nn.MaxPool2d(kernel_size=2),\n",
    "        )\n",
    "        self.conv2 = nn.Sequential(\n",
    "            nn.Conv2d(in_channels=6, out_channels=16, kernel_size=5),\n",
    "            nn.BatchNorm2d(num_features=16),\n",
    "            nn.ReLU(),\n",
    "            nn.MaxPool2d(kernel_size=2),\n",
    "        )\n",
    "        self.flatten = nn.Flatten()\n",
    "        self.fc1 = nn.Sequential(\n",
    "            nn.Linear(in_features=16 * 4 * 4, out_features=120),\n",
    "            nn.BatchNorm1d(num_features=120),\n",
    "            nn.ReLU(),\n",
    "        )\n",
    "        self.fc2 = nn.Sequential(\n",
    "            nn.Linear(in_features=120, out_features=84),\n",
    "            nn.BatchNorm1d(num_features=84),\n",
    "            nn.ReLU(),\n",
    "        )\n",
    "        self.fc3 = nn.Linear(in_features=84, out_features=10)\n",
    "\n",
    "    def forward(self, x):\n",
    "        x = self.conv1(x)\n",
    "        x = self.conv2(x)\n",
    "        x = self.flatten(x)\n",
    "        x = self.fc1(x)\n",
    "        x = self.fc2(x)\n",
    "        x = self.fc3(x)\n",
    "        return x"
   ],
   "id": "6504634d936843cf",
   "outputs": [],
   "execution_count": 7
  },
  {
   "metadata": {
    "ExecuteTime": {
     "end_time": "2025-08-31T04:08:01.634182Z",
     "start_time": "2025-08-31T04:08:01.540937Z"
    }
   },
   "cell_type": "code",
   "source": "summary(LeNet(), input_size=(1, 1, 28, 28))",
   "id": "90ba5ee742e7ab00",
   "outputs": [
    {
     "data": {
      "text/plain": [
       "==========================================================================================\n",
       "Layer (type:depth-idx)                   Output Shape              Param #\n",
       "==========================================================================================\n",
       "LeNet                                    [1, 10]                   --\n",
       "├─Sequential: 1-1                        [1, 6, 12, 12]            --\n",
       "│    └─Conv2d: 2-1                       [1, 6, 24, 24]            156\n",
       "│    └─BatchNorm2d: 2-2                  [1, 6, 24, 24]            12\n",
       "│    └─ReLU: 2-3                         [1, 6, 24, 24]            --\n",
       "│    └─MaxPool2d: 2-4                    [1, 6, 12, 12]            --\n",
       "├─Sequential: 1-2                        [1, 16, 4, 4]             --\n",
       "│    └─Conv2d: 2-5                       [1, 16, 8, 8]             2,416\n",
       "│    └─BatchNorm2d: 2-6                  [1, 16, 8, 8]             32\n",
       "│    └─ReLU: 2-7                         [1, 16, 8, 8]             --\n",
       "│    └─MaxPool2d: 2-8                    [1, 16, 4, 4]             --\n",
       "├─Flatten: 1-3                           [1, 256]                  --\n",
       "├─Sequential: 1-4                        [1, 120]                  --\n",
       "│    └─Linear: 2-9                       [1, 120]                  30,840\n",
       "│    └─BatchNorm1d: 2-10                 [1, 120]                  240\n",
       "│    └─ReLU: 2-11                        [1, 120]                  --\n",
       "├─Sequential: 1-5                        [1, 84]                   --\n",
       "│    └─Linear: 2-12                      [1, 84]                   10,164\n",
       "│    └─BatchNorm1d: 2-13                 [1, 84]                   168\n",
       "│    └─ReLU: 2-14                        [1, 84]                   --\n",
       "├─Linear: 1-6                            [1, 10]                   850\n",
       "==========================================================================================\n",
       "Total params: 44,878\n",
       "Trainable params: 44,878\n",
       "Non-trainable params: 0\n",
       "Total mult-adds (Units.MEGABYTES): 0.29\n",
       "==========================================================================================\n",
       "Input size (MB): 0.00\n",
       "Forward/backward pass size (MB): 0.08\n",
       "Params size (MB): 0.18\n",
       "Estimated Total Size (MB): 0.26\n",
       "=========================================================================================="
      ]
     },
     "execution_count": 8,
     "metadata": {},
     "output_type": "execute_result"
    }
   ],
   "execution_count": 8
  },
  {
   "metadata": {
    "ExecuteTime": {
     "end_time": "2025-08-31T04:08:01.669621Z",
     "start_time": "2025-08-31T04:08:01.644276Z"
    }
   },
   "cell_type": "code",
   "source": [
    "transform = transforms.Compose([\n",
    "    transforms.ToTensor(),\n",
    "])\n",
    "\n",
    "train_dataset = datasets.MNIST(root='./data', train=True, transform=transform, download=True)\n",
    "test_dataset = datasets.MNIST(root='./data', train=False, transform=transform, download=True)\n",
    "\n",
    "train_dataloader = DataLoader(train_dataset, batch_size=256, shuffle=True)\n",
    "test_dataloader = DataLoader(test_dataset, batch_size=256, shuffle=False)"
   ],
   "id": "2ab5a4199cc71d43",
   "outputs": [],
   "execution_count": 9
  },
  {
   "metadata": {
    "ExecuteTime": {
     "end_time": "2025-08-31T04:08:01.676629Z",
     "start_time": "2025-08-31T04:08:01.673269Z"
    }
   },
   "cell_type": "code",
   "source": [
    "model = LeNet()\n",
    "loss_fn = nn.CrossEntropyLoss()\n",
    "optimizer = optim.SGD(model.parameters(), lr=0.02)"
   ],
   "id": "7c538e1487c89427",
   "outputs": [],
   "execution_count": 10
  },
  {
   "metadata": {
    "ExecuteTime": {
     "end_time": "2025-08-31T04:08:44.469786Z",
     "start_time": "2025-08-31T04:08:01.680146Z"
    }
   },
   "cell_type": "code",
   "source": [
    "num_epochs = 10\n",
    "loss_history = []\n",
    "acc_history = []\n",
    "\n",
    "for epoch in tqdm(range(num_epochs), file=sys.stdout):\n",
    "    total_loss = 0\n",
    "    total_correct = 0\n",
    "\n",
    "    model.train()\n",
    "    for images, labels in train_dataloader:\n",
    "        optimizer.zero_grad()\n",
    "        pred = model(images)\n",
    "        loss = loss_fn(pred, labels)\n",
    "        loss.backward()\n",
    "        optimizer.step()\n",
    "        total_loss += loss.item()\n",
    "\n",
    "    model.eval()\n",
    "    with torch.no_grad():\n",
    "        for images, labels in test_dataloader:\n",
    "            pred = model(images)\n",
    "            total_correct += (pred.argmax(1) == labels).sum().item()\n",
    "\n",
    "    loss_history.append(np.log10(total_loss))\n",
    "    acc_history.append(total_correct / len(test_dataset))\n",
    "\n",
    "    if epoch % 2 == 0:\n",
    "        tqdm.write(f\"Epoch: {epoch:>5}, Loss: {loss_history[-1]:>7.5f}, Accuracy: {acc_history[-1]:>7.5f}\")\n"
   ],
   "id": "7bc5479e30722f92",
   "outputs": [
    {
     "name": "stdout",
     "output_type": "stream",
     "text": [
      "Epoch:     0, Loss: 2.19887, Accuracy: 0.95470\n",
      "Epoch:     2, Loss: 1.43689, Accuracy: 0.97900\n",
      "Epoch:     4, Loss: 1.23149, Accuracy: 0.98560\n",
      "Epoch:     6, Loss: 1.10860, Accuracy: 0.98730\n",
      "Epoch:     8, Loss: 1.02174, Accuracy: 0.98840\n",
      "100%|██████████| 10/10 [00:42<00:00,  4.28s/it]\n"
     ]
    }
   ],
   "execution_count": 11
  },
  {
   "metadata": {
    "ExecuteTime": {
     "end_time": "2025-08-31T04:11:05.720163Z",
     "start_time": "2025-08-31T04:11:05.675027Z"
    }
   },
   "cell_type": "code",
   "source": [
    "import matplotlib.pyplot as plt\n",
    "\n",
    "plt.plot(loss_history, label=\"Loss\")\n",
    "plt.plot(acc_history, label=\"Accuracy\")\n",
    "plt.legend()\n",
    "plt.show()\n",
    "\n",
    "print(f\"Accuracy: {acc_history[-1]:%}\")"
   ],
   "id": "5f5a8f31892f6804",
   "outputs": [
    {
     "data": {
      "text/plain": [
       "<Figure size 640x480 with 1 Axes>"
      ],
      "image/png": "[encoded data removed]"
     },
     "metadata": {},
     "output_type": "display_data",
     "jetTransient": {
      "display_id": null
     }
    },
    {
     "name": "stdout",
     "output_type": "stream",
     "text": [
      "Accuracy: 98.850000%\n"
     ]
    }
   ],
   "execution_count": 17
  }
 ],
 "metadata": {
  "kernelspec": {
   "display_name": "Python 3",
   "language": "python",
   "name": "python3"
  },
  "language_info": {
   "codemirror_mode": {
    "name": "ipython",
    "version": 2
   },
   "file_extension": ".py",
   "mimetype": "text/x-python",
   "name": "python",
   "nbconvert_exporter": "python",
   "pygments_lexer": "ipython2",
   "version": "2.7.6"
  }
 },
 "nbformat": 4,
 "nbformat_minor": 5
}
